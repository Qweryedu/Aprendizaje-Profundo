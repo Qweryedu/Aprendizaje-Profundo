{
 "cells": [
  {
   "cell_type": "markdown",
   "metadata": {
    "vscode": {
     "languageId": "plaintext"
    }
   },
   "source": [
    "# Tarea 1 - Redes densas\n",
    "## Eduardo García Alarcón"
   ]
  },
  {
   "cell_type": "markdown",
   "metadata": {},
   "source": [
    "### 2. Retropropagación en red densa\n",
    "\n",
    "Programa el algoritmo de retropropagación usando NumPy para una tarea de clasificación binaria presuponiendo una red densa con dos capas ocultas. Las neuronas de las capas ocultas cuentan con una función de activasión ReLU, definida por $$ ReLU(x) = máx(0,z)$$\n",
    "\n",
    "Por su parte, la capa de salida está compuesta por una sola neurona logística.\n",
    "\n",
    "Para el entrenamiento minimiza el promedio de la función de pérdida de entropía cruzada binaria: \n",
    "$$\n",
    "ECB(\\bold{y}, \\bold{\\hat y}) = -\\frac{1}{n} \\sum_{i=1}^n \\big[ y^{(i)} log \\big(\\hat y^{(i)}\\big) + \\big(1-y^{(i)}\\big) log\\big(1-\\hat y^{(i)}\\big)\\big]\n",
    "$$\n",
    "\n",
    "Entrena la red mediante descenso por gradiente y el algoritmo de retropropagación de errores.\n",
    "\n",
    "Describe las fórmulas y reglas de actualización de los pesos y sesgos de cada capa y entrena y evalúa la red en algún problema de clasifiación no lineal. Compara el comportamiento del entrenamiento de esta red con una en la que las neuronas de las capas ocultas tienen una función de activasión logística y en la que la función de pérdida no se promedia. "
   ]
  }
 ],
 "metadata": {
  "language_info": {
   "name": "python"
  }
 },
 "nbformat": 4,
 "nbformat_minor": 2
}
