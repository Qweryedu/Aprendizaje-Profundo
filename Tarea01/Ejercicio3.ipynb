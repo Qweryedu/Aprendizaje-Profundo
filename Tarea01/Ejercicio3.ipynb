{
 "cells": [
  {
   "cell_type": "markdown",
   "metadata": {},
   "source": [
    "# Tarea 1 - Redes densas\n",
    "## Eduardo García Alarcón"
   ]
  },
  {
   "cell_type": "markdown",
   "metadata": {
    "vscode": {
     "languageId": "plaintext"
    }
   },
   "source": [
    "### 3. Red densa conl PyTorch\n",
    "\n",
    "A partir de la libreta https://github.com/gibranfp/CursoAprendizajeProfundo/blob/2025-1/notebooks/1c_redes_densas_pytorch.ipynb, evalúa tres distintas configuraciones de redes densas que incluyan lo siguiente:\n",
    "\n",
    "  - Más capas ocultas\n",
    "  - Distintas funciones de activasión de las capas ocultas\n",
    "  - Técnicas de regularización\n",
    "  - Capas de normalizaciónl   "
   ]
  }
 ],
 "metadata": {
  "language_info": {
   "name": "python"
  }
 },
 "nbformat": 4,
 "nbformat_minor": 2
}
