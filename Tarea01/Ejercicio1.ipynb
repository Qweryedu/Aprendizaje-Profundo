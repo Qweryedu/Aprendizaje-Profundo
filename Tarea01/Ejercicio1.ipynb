{
 "cells": [
  {
   "cell_type": "markdown",
   "metadata": {},
   "source": [
    "# Tarea 1 - Redes densas\n",
    "## Eduardo García Alarcón"
   ]
  },
  {
   "cell_type": "markdown",
   "metadata": {
    "vscode": {
     "languageId": "plaintext"
    }
   },
   "source": [
    "### 1. Red de unidades de umbral\n",
    "\n",
    "Programa y evalúa una red de neuronas con funciones de activación escalón unitario que aproxime la operación **XNOR** ($\\odot$) dada por:\n",
    "\n",
    "| $x_1$ | $x_2$ | $y$ |\n",
    "|:-----:|:-----:|:---:|\n",
    "|   0   |   0   |  1  |\n",
    "|   0   |   1   |  0  |\n",
    "|   1   |   0   |  0  |\n",
    "|   1   |   1   |  1  |\n",
    "\n",
    "Para ello debes asignarle los pesos y sesgos adecuados a cada neurona manualmente. Explica la elección de la red y los valores de los pesos y sesgos"
   ]
  }
 ],
 "metadata": {
  "language_info": {
   "name": "python"
  }
 },
 "nbformat": 4,
 "nbformat_minor": 2
}
